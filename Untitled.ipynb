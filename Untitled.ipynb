{
 "cells": [
  {
   "cell_type": "code",
   "execution_count": 1,
   "id": "5b2acc70",
   "metadata": {},
   "outputs": [
    {
     "name": "stdout",
     "output_type": "stream",
     "text": [
      "['痰', '有', '是', '白', '色', '的', '有', '时', '有', '是', '黄', '色', '[unused1]', '这', '种', '情', '况', '考', '虑', '上', '呼', '吸', '道', '感', '染', '引', '起', '的', '表', '现', '，', '建', '议', '口', '服', '惠', '菲', '宁', '或', '酮', '替', '芬', '或', '其', '他', '含', '抗', '过', '敏'] ['痰', '有', '是', '白', '色', '的', '有', '时', '有', '是', '黄', '色']\r\n",
      "Traceback (most recent call last):\r\n",
      "  File \"data_preprocess.py\", line 220, in <module>\r\n",
      "    preprocess(config)\r\n",
      "  File \"data_preprocess.py\", line 207, in preprocess\r\n",
      "    save_data(dataset, example_ids, 'train', train_path, train_sample_path, i)\r\n",
      "  File \"data_preprocess.py\", line 153, in save_data\r\n",
      "    assert input_tmp[start_idx:end_index] == list(t[3])\r\n",
      "AssertionError\r\n"
     ]
    }
   ],
   "source": [
    "!python data_preprocess.py --input_file ./data/dataset/CHIP-MDCFNPC_train.jsonl --output_path ./data/dialog_data"
   ]
  },
  {
   "cell_type": "code",
   "execution_count": 4,
   "id": "82fdfcd4",
   "metadata": {},
   "outputs": [],
   "source": [
    "from data_preprocess import read_json_file\n",
    "import argparse"
   ]
  },
  {
   "cell_type": "code",
   "execution_count": 5,
   "id": "6b1e271a",
   "metadata": {},
   "outputs": [],
   "source": [
    "parser = argparse.ArgumentParser()\n",
    "parser.add_argument(\"--input_file\", default=\"./data/dataset/CHIP-MDCFNPC_train.jsonl\", type=str, help=\"Input file to preprocess for training\")\n",
    "parser.add_argument(\"--split_file\", default=\"./data/dataset/split.csv\", type=str, help=\"Input file for multi-fold cross validation\")\n",
    "parser.add_argument(\"--output_path\", default=\"./data/dialog_data\", type=str, help=\"Output file after preprocess\")\n",
    "\n",
    "config = parser.parse_args([])"
   ]
  },
  {
   "cell_type": "code",
   "execution_count": 6,
   "id": "ede24168",
   "metadata": {},
   "outputs": [],
   "source": [
    "dataset = read_json_file(config.input_file)"
   ]
  },
  {
   "cell_type": "code",
   "execution_count": 7,
   "id": "036ce0c5",
   "metadata": {},
   "outputs": [
    {
     "data": {
      "text/plain": [
       "list"
      ]
     },
     "execution_count": 7,
     "metadata": {},
     "output_type": "execute_result"
    }
   ],
   "source": [
    "type(dataset)"
   ]
  },
  {
   "cell_type": "code",
   "execution_count": 8,
   "id": "576922b5",
   "metadata": {},
   "outputs": [
    {
     "data": {
      "text/plain": [
       "{'dialog_id': 9972,\n",
       " 'dialog_info': [{'text': '双侧腰部疼痛，有时候会引起腿疼，检查结果双侧竖脊肌多裂肌萎缩，请问这种有办法治疗吗？',\n",
       "   'sentence_id': '1',\n",
       "   'ner': [{'name': '下肢疼痛',\n",
       "     'mention': '腿疼',\n",
       "     'range': [13, 15],\n",
       "     'type': 'Symptom',\n",
       "     'attr': '阳性'},\n",
       "    {'name': '腰痛',\n",
       "     'mention': '腰部疼痛',\n",
       "     'range': [2, 6],\n",
       "     'type': 'Symptom',\n",
       "     'attr': '阳性'},\n",
       "    {'name': 'undefined',\n",
       "     'mention': '双侧竖脊肌多裂肌萎缩',\n",
       "     'range': [20, 30],\n",
       "     'type': '',\n",
       "     'attr': '阳性'}],\n",
       "   'sender': '患者'},\n",
       "  {'text': '你好，请问腰痛多长时间了，现在有腿疼吗？',\n",
       "   'sentence_id': '2',\n",
       "   'ner': [{'name': '下肢疼痛',\n",
       "     'mention': '腿疼',\n",
       "     'range': [16, 18],\n",
       "     'type': 'Symptom',\n",
       "     'attr': '阳性'},\n",
       "    {'name': '腰痛',\n",
       "     'mention': '腰痛',\n",
       "     'range': [5, 7],\n",
       "     'type': 'Symptom',\n",
       "     'attr': '阳性'}],\n",
       "   'sender': '医生'},\n",
       "  {'text': '你好，在吗？能否回答一下我的提问，有助于我判断你的情况。好给出建议哦。',\n",
       "   'sentence_id': '3',\n",
       "   'ner': [],\n",
       "   'sender': '医生'},\n",
       "  {'text': '有时候会引发腿疼，有快一年了吧！',\n",
       "   'sentence_id': '4',\n",
       "   'ner': [{'name': '下肢疼痛',\n",
       "     'mention': '腿疼',\n",
       "     'range': [6, 8],\n",
       "     'type': 'Symptom',\n",
       "     'attr': '阳性'}],\n",
       "   'sender': '患者'},\n",
       "  {'text': '腿疼是什么情况，臀部到大腿或者小腿的疼痛，还是小腿后方肌肉疼痛呢？',\n",
       "   'sentence_id': '5',\n",
       "   'ner': [{'name': '小腿疼痛',\n",
       "     'mention': '臀部到大腿或者小腿的疼痛',\n",
       "     'range': [8, 20],\n",
       "     'type': 'Symptom',\n",
       "     'attr': '其他'},\n",
       "    {'name': '下肢疼痛',\n",
       "     'mention': '腿疼',\n",
       "     'range': [0, 2],\n",
       "     'type': 'Symptom',\n",
       "     'attr': '阳性'},\n",
       "    {'name': 'undefined',\n",
       "     'mention': '小腿后方肌肉疼痛',\n",
       "     'range': [23, 31],\n",
       "     'type': 'Symptom',\n",
       "     'attr': '其他'}],\n",
       "   'sender': '医生'},\n",
       "  {'text': '痛了有两年多了，最近半年更严重，感觉是腰两侧肌肉痛',\n",
       "   'sentence_id': '6',\n",
       "   'ner': [{'name': '腰腿痛',\n",
       "     'mention': '腰两侧肌肉痛',\n",
       "     'range': [19, 25],\n",
       "     'type': 'Symptom',\n",
       "     'attr': '阳性'},\n",
       "    {'name': '疼痛',\n",
       "     'mention': '痛',\n",
       "     'range': [0, 1],\n",
       "     'type': 'Symptom',\n",
       "     'attr': '阳性'}],\n",
       "   'sender': '患者'},\n",
       "  {'text': '嗯，我想了解一下腿痛的情况，然后再给你解释，可以吗？',\n",
       "   'sentence_id': '7',\n",
       "   'ner': [{'name': '下肢疼痛',\n",
       "     'mention': '腿痛',\n",
       "     'range': [8, 10],\n",
       "     'type': 'Symptom',\n",
       "     'attr': '阳性'}],\n",
       "   'sender': '医生'},\n",
       "  {'text': '严重时会引起坐骨痛而不能行走',\n",
       "   'sentence_id': '8',\n",
       "   'ner': [{'name': '行走困难',\n",
       "     'mention': '不能行走',\n",
       "     'range': [10, 14],\n",
       "     'type': 'Symptom',\n",
       "     'attr': '阳性'},\n",
       "    {'name': '髋关节疼痛',\n",
       "     'mention': '坐骨痛',\n",
       "     'range': [6, 9],\n",
       "     'type': 'Symptom',\n",
       "     'attr': '阳性'}],\n",
       "   'sender': '患者'},\n",
       "  {'text': '平时久坐或者弯腰时间长吗？', 'sentence_id': '9', 'ner': [], 'sender': '医生'},\n",
       "  {'text': '还在吗？', 'sentence_id': '10', 'ner': [], 'sender': '医生'},\n",
       "  {'text': '主要是抱小孩吧，久坐\\n赵春栋医生\\n赵春栋医生',\n",
       "   'sentence_id': '11',\n",
       "   'ner': [],\n",
       "   'sender': '患者'},\n",
       "  {'text': '你好，能够听到语音吗？\\n赵春栋医生',\n",
       "   'sentence_id': '12',\n",
       "   'ner': [],\n",
       "   'sender': '医生'},\n",
       "  {'text': '能听到，谢谢啊，所以只有平时多注意？针灸之类的？有药物推荐吗？',\n",
       "   'sentence_id': '13',\n",
       "   'ner': [],\n",
       "   'sender': '患者'},\n",
       "  {'text': '如果进一步检查，应该挂什么科室呢？骨科？神经内科？\\n赵春栋医生',\n",
       "   'sentence_id': '14',\n",
       "   'ner': [],\n",
       "   'sender': '患者'},\n",
       "  {'text': '现在腿痛吗？臀部到大腿甚至小腿的疼痛，还是小腿肌肉疼痛呢？',\n",
       "   'sentence_id': '15',\n",
       "   'ner': [{'name': '腿部肌肉疼痛',\n",
       "     'mention': '小腿肌肉疼痛',\n",
       "     'range': [21, 27],\n",
       "     'type': 'Symptom',\n",
       "     'attr': '其他'},\n",
       "    {'name': '小腿疼痛',\n",
       "     'mention': '臀部到大腿甚至小腿的疼痛',\n",
       "     'range': [6, 18],\n",
       "     'type': 'Symptom',\n",
       "     'attr': '其他'},\n",
       "    {'name': '下肢疼痛',\n",
       "     'mention': '腿痛',\n",
       "     'range': [2, 4],\n",
       "     'type': 'Symptom',\n",
       "     'attr': '阳性'}],\n",
       "   'sender': '医生'}]}"
      ]
     },
     "execution_count": 8,
     "metadata": {},
     "output_type": "execute_result"
    }
   ],
   "source": [
    "dataset[0]"
   ]
  },
  {
   "cell_type": "code",
   "execution_count": null,
   "id": "cd6e9066",
   "metadata": {},
   "outputs": [],
   "source": []
  }
 ],
 "metadata": {
  "kernelspec": {
   "display_name": "Python 3 (ipykernel)",
   "language": "python",
   "name": "python3"
  },
  "language_info": {
   "codemirror_mode": {
    "name": "ipython",
    "version": 3
   },
   "file_extension": ".py",
   "mimetype": "text/x-python",
   "name": "python",
   "nbconvert_exporter": "python",
   "pygments_lexer": "ipython3",
   "version": "3.7.12"
  },
  "toc": {
   "base_numbering": 1,
   "nav_menu": {},
   "number_sections": true,
   "sideBar": true,
   "skip_h1_title": false,
   "title_cell": "Table of Contents",
   "title_sidebar": "Contents",
   "toc_cell": false,
   "toc_position": {},
   "toc_section_display": true,
   "toc_window_display": false
  }
 },
 "nbformat": 4,
 "nbformat_minor": 5
}
